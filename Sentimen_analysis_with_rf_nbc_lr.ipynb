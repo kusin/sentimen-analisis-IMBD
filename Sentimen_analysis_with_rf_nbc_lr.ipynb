{
 "cells": [
  {
   "cell_type": "markdown",
   "id": "92c3b1c4-2289-4fe2-8bcd-13217aa667f3",
   "metadata": {},
   "source": [
    "# Sentimen Analysis IMBD (Internet Movie Database) with MNB, RF, LR\n",
    "- https://www.kaggle.com/code/arindamdas07/imdb-movie-reviews-using-logistic-regression"
   ]
  },
  {
   "cell_type": "code",
   "execution_count": 1,
   "id": "f636cb21-1508-4a22-9099-a0e982959a75",
   "metadata": {},
   "outputs": [],
   "source": [
    "import numpy as np # linear algebra\n",
    "import pandas as pd # data processing, CSV file I/O (e.g. pd.read_csv)"
   ]
  },
  {
   "cell_type": "code",
   "execution_count": 2,
   "id": "52e49230-565f-4d15-b06e-8f8e4b3cbe57",
   "metadata": {},
   "outputs": [],
   "source": [
    "### Importing libraries\n",
    "from sklearn.pipeline import Pipeline\n",
    "from sklearn.ensemble import RandomForestClassifier\n",
    "from sklearn.linear_model import LogisticRegression\n",
    "from sklearn.naive_bayes import MultinomialNB\n",
    "from sklearn.feature_extraction.text import TfidfVectorizer\n",
    "from sklearn.metrics import precision_score,accuracy_score, classification_report, confusion_matrix\n",
    "from matplotlib import pyplot as plt\n",
    "import seaborn as sn\n",
    "import warnings\n",
    "warnings.filterwarnings('ignore')\n",
    "\n",
    "import nltk\n",
    "from nltk.corpus import stopwords\n",
    "from nltk.stem.porter import PorterStemmer\n",
    "import re"
   ]
  },
  {
   "cell_type": "markdown",
   "id": "bf876408-517f-48b0-8cad-fc31d410e632",
   "metadata": {},
   "source": [
    "## Data Acquisition"
   ]
  },
  {
   "cell_type": "code",
   "execution_count": 3,
   "id": "190b8969-4652-4a21-a8e9-b54ee66ad023",
   "metadata": {},
   "outputs": [],
   "source": [
    "# read csv\n",
    "df = pd.read_csv('dataset/IMDB_Dataset.csv')"
   ]
  },
  {
   "cell_type": "code",
   "execution_count": 4,
   "id": "f29ef02b-125d-4f0c-92e0-83d75d1f28a9",
   "metadata": {},
   "outputs": [
    {
     "name": "stdout",
     "output_type": "stream",
     "text": [
      "(50000, 2)\n"
     ]
    }
   ],
   "source": [
    "# view dimension data\n",
    "print(df.shape)"
   ]
  },
  {
   "cell_type": "code",
   "execution_count": 5,
   "id": "c33e4458-78ad-4af8-a692-d7f682784bd1",
   "metadata": {},
   "outputs": [
    {
     "name": "stdout",
     "output_type": "stream",
     "text": [
      "                                              review sentiment\n",
      "0  One of the other reviewers has mentioned that ...  positive\n",
      "1  A wonderful little production. <br /><br />The...  positive\n",
      "2  I thought this was a wonderful way to spend ti...  positive\n",
      "3  Basically there's a family where a little boy ...  negative\n",
      "4  Petter Mattei's \"Love in the Time of Money\" is...  positive\n"
     ]
    }
   ],
   "source": [
    "print(df.head())"
   ]
  },
  {
   "cell_type": "code",
   "execution_count": 6,
   "id": "8dd498ad-1849-49ce-8dfc-98191379bfa4",
   "metadata": {},
   "outputs": [
    {
     "data": {
      "text/plain": [
       "review       0\n",
       "sentiment    0\n",
       "dtype: int64"
      ]
     },
     "execution_count": 6,
     "metadata": {},
     "output_type": "execute_result"
    }
   ],
   "source": [
    "df.isnull().sum()"
   ]
  },
  {
   "cell_type": "code",
   "execution_count": 7,
   "id": "2c9b0d39-f906-48eb-8a42-477d7839c9df",
   "metadata": {},
   "outputs": [
    {
     "name": "stdout",
     "output_type": "stream",
     "text": [
      "sentiment\n",
      "negative    25000\n",
      "positive    25000\n",
      "Name: count, dtype: int64\n"
     ]
    },
    {
     "data": {
      "text/plain": [
       "<Axes: xlabel='sentiment'>"
      ]
     },
     "execution_count": 7,
     "metadata": {},
     "output_type": "execute_result"
    },
    {
     "data": {
      "image/png": "[encoded data removed]",
      "text/plain": [
       "<Figure size 640x480 with 1 Axes>"
      ]
     },
     "metadata": {},
     "output_type": "display_data"
    }
   ],
   "source": [
    "print(df.value_counts('sentiment'))\n",
    "df.value_counts('sentiment').plot(kind='bar')"
   ]
  },
  {
   "cell_type": "markdown",
   "id": "8f9b4594-24f1-496d-a6dd-7387c502dade",
   "metadata": {},
   "source": [
    "## Preprocessing Data"
   ]
  },
  {
   "cell_type": "code",
   "execution_count": 8,
   "id": "579e099d-6326-4d97-8fb3-c36e47d8f85e",
   "metadata": {},
   "outputs": [],
   "source": [
    "### Preprocessing Function\n",
    "ps = PorterStemmer()\n",
    "corpus = set()\n",
    "def preprocess(text):\n",
    "    \n",
    "    ## removing unwanted space\n",
    "    text = text.strip()\n",
    "    \n",
    "    ## removing html tags \n",
    "    text = re.sub(\"<[^>]*>\", \"\",text)\n",
    "    \n",
    "    ## removing any numerical values\n",
    "    text = re.sub('[^a-zA-Z]', ' ',text)\n",
    "    \n",
    "    ## lower case the word\n",
    "    text = text.lower()\n",
    "    \n",
    "    text = text.split()\n",
    "    \n",
    "    ## stemming the word for sentiment analysis do not remove the stop word\n",
    "    text = [ps.stem(word) for word in text]\n",
    "    text = ' '.join(text)\n",
    "    return text"
   ]
  },
  {
   "cell_type": "code",
   "execution_count": 9,
   "id": "b08ec98d-866e-4c9b-9160-9c6093b21871",
   "metadata": {},
   "outputs": [],
   "source": [
    "df['Preprocessed_review'] = df.review.apply(preprocess)"
   ]
  },
  {
   "cell_type": "code",
   "execution_count": 10,
   "id": "0ad9350f-4deb-4965-97fa-5b692baea497",
   "metadata": {},
   "outputs": [
    {
     "data": {
      "text/html": [
       "<div>\n",
       "<style scoped>\n",
       "    .dataframe tbody tr th:only-of-type {\n",
       "        vertical-align: middle;\n",
       "    }\n",
       "\n",
       "    .dataframe tbody tr th {\n",
       "        vertical-align: top;\n",
       "    }\n",
       "\n",
       "    .dataframe thead th {\n",
       "        text-align: right;\n",
       "    }\n",
       "</style>\n",
       "<table border=\"1\" class=\"dataframe\">\n",
       "  <thead>\n",
       "    <tr style=\"text-align: right;\">\n",
       "      <th></th>\n",
       "      <th>review</th>\n",
       "      <th>sentiment</th>\n",
       "      <th>Preprocessed_review</th>\n",
       "      <th>sentiment_numeric</th>\n",
       "    </tr>\n",
       "  </thead>\n",
       "  <tbody>\n",
       "    <tr>\n",
       "      <th>0</th>\n",
       "      <td>One of the other reviewers has mentioned that ...</td>\n",
       "      <td>positive</td>\n",
       "      <td>one of the other review ha mention that after ...</td>\n",
       "      <td>1</td>\n",
       "    </tr>\n",
       "    <tr>\n",
       "      <th>1</th>\n",
       "      <td>A wonderful little production. &lt;br /&gt;&lt;br /&gt;The...</td>\n",
       "      <td>positive</td>\n",
       "      <td>a wonder littl product the film techniqu is ve...</td>\n",
       "      <td>1</td>\n",
       "    </tr>\n",
       "    <tr>\n",
       "      <th>2</th>\n",
       "      <td>I thought this was a wonderful way to spend ti...</td>\n",
       "      <td>positive</td>\n",
       "      <td>i thought thi wa a wonder way to spend time on...</td>\n",
       "      <td>1</td>\n",
       "    </tr>\n",
       "    <tr>\n",
       "      <th>3</th>\n",
       "      <td>Basically there's a family where a little boy ...</td>\n",
       "      <td>negative</td>\n",
       "      <td>basic there s a famili where a littl boy jake ...</td>\n",
       "      <td>0</td>\n",
       "    </tr>\n",
       "    <tr>\n",
       "      <th>4</th>\n",
       "      <td>Petter Mattei's \"Love in the Time of Money\" is...</td>\n",
       "      <td>positive</td>\n",
       "      <td>petter mattei s love in the time of money is a...</td>\n",
       "      <td>1</td>\n",
       "    </tr>\n",
       "  </tbody>\n",
       "</table>\n",
       "</div>"
      ],
      "text/plain": [
       "                                              review sentiment  \\\n",
       "0  One of the other reviewers has mentioned that ...  positive   \n",
       "1  A wonderful little production. <br /><br />The...  positive   \n",
       "2  I thought this was a wonderful way to spend ti...  positive   \n",
       "3  Basically there's a family where a little boy ...  negative   \n",
       "4  Petter Mattei's \"Love in the Time of Money\" is...  positive   \n",
       "\n",
       "                                 Preprocessed_review  sentiment_numeric  \n",
       "0  one of the other review ha mention that after ...                  1  \n",
       "1  a wonder littl product the film techniqu is ve...                  1  \n",
       "2  i thought thi wa a wonder way to spend time on...                  1  \n",
       "3  basic there s a famili where a littl boy jake ...                  0  \n",
       "4  petter mattei s love in the time of money is a...                  1  "
      ]
     },
     "execution_count": 10,
     "metadata": {},
     "output_type": "execute_result"
    }
   ],
   "source": [
    "map_dict = {'positive':1,\n",
    "           'negative':0}\n",
    "df['sentiment_numeric'] = df.sentiment.map(map_dict)\n",
    "df.head()"
   ]
  },
  {
   "cell_type": "markdown",
   "id": "09b45ff4-fcb1-4ed3-a97b-4874b9a756ab",
   "metadata": {},
   "source": [
    "## Spliting Data"
   ]
  },
  {
   "cell_type": "code",
   "execution_count": 11,
   "id": "689d3f40-9c6b-4e5e-bdbe-574717090a95",
   "metadata": {},
   "outputs": [],
   "source": [
    "### performing train test split\n",
    "from sklearn.model_selection import train_test_split\n",
    "x_train,x_test,y_train,y_test = train_test_split(df.Preprocessed_review\t,\n",
    "                                                 df.sentiment_numeric,\n",
    "                                                 test_size=0.2,\n",
    "                                                 random_state=42,\n",
    "                                                 stratify=df.sentiment_numeric)"
   ]
  },
  {
   "cell_type": "code",
   "execution_count": 12,
   "id": "734c2363-7cd0-410c-957b-a7795606137b",
   "metadata": {},
   "outputs": [
    {
     "data": {
      "text/plain": [
       "((40000,), (10000,))"
      ]
     },
     "execution_count": 12,
     "metadata": {},
     "output_type": "execute_result"
    }
   ],
   "source": [
    "x_train.shape,x_test.shape"
   ]
  },
  {
   "cell_type": "markdown",
   "id": "3c4f46fc-8842-46b8-b3cc-bc0c4817a25f",
   "metadata": {
    "jp-MarkdownHeadingCollapsed": true,
    "tags": []
   },
   "source": [
    "## Naive Bayes Algorithm"
   ]
  },
  {
   "cell_type": "code",
   "execution_count": 13,
   "id": "f9dc3812-d139-4a54-a6c7-b10c3be0142d",
   "metadata": {},
   "outputs": [
    {
     "name": "stdout",
     "output_type": "stream",
     "text": [
      "multi naive bayes precision: 0.8742151527835914\n",
      "multi naive bayes accuracy: 0.8576\n"
     ]
    }
   ],
   "source": [
    "multi_nb = Pipeline([\n",
    "     ('tfidf',TfidfVectorizer()),        \n",
    "     ('Multi_NB', MultinomialNB())         \n",
    "])\n",
    "\n",
    "multi_nb.fit(x_train, y_train)\n",
    "\n",
    "\n",
    "y_pred_mnb = multi_nb.predict(x_test)\n",
    "\n",
    "print(f'multi naive bayes precision: {precision_score(y_test,y_pred_mnb)}')\n",
    "print(f'multi naive bayes accuracy: {accuracy_score(y_test,y_pred_mnb)}')"
   ]
  },
  {
   "cell_type": "code",
   "execution_count": 14,
   "id": "1536eeef-2461-4cf3-9e05-ed1b1cd9b1c7",
   "metadata": {},
   "outputs": [],
   "source": [
    "confusion_mat_nbc = confusion_matrix(y_test, y_pred_mnb)"
   ]
  },
  {
   "cell_type": "code",
   "execution_count": 15,
   "id": "5db1b328-5683-4400-8fd6-00f07a32d6f8",
   "metadata": {},
   "outputs": [
    {
     "data": {
      "text/plain": [
       "array([[4399,  601],\n",
       "       [ 823, 4177]], dtype=int64)"
      ]
     },
     "execution_count": 15,
     "metadata": {},
     "output_type": "execute_result"
    }
   ],
   "source": [
    "confusion_mat_nbc"
   ]
  },
  {
   "cell_type": "code",
   "execution_count": 16,
   "id": "e95bce1d-dd1d-4841-90f6-f0f7ce8fd72d",
   "metadata": {},
   "outputs": [
    {
     "data": {
      "text/plain": [
       "Text(70.72222222222221, 0.5, 'Truth')"
      ]
     },
     "execution_count": 16,
     "metadata": {},
     "output_type": "execute_result"
    },
    {
     "data": {
      "image/png": "[encoded data removed]",
      "text/plain": [
       "<Figure size 800x400 with 2 Axes>"
      ]
     },
     "metadata": {},
     "output_type": "display_data"
    }
   ],
   "source": [
    "plt.figure(figsize = (8,4))\n",
    "sn.heatmap(confusion_mat_nbc, annot=True, fmt='d')\n",
    "plt.xlabel('Prediction')\n",
    "plt.ylabel('Truth')"
   ]
  },
  {
   "cell_type": "code",
   "execution_count": 17,
   "id": "9b0d2a81-494d-49ce-9276-dac749c118aa",
   "metadata": {},
   "outputs": [
    {
     "name": "stdout",
     "output_type": "stream",
     "text": [
      "Accuracy: 0.86\n",
      "Classification Report:\n",
      "               precision    recall  f1-score   support\n",
      "\n",
      "           0       0.84      0.88      0.86      5000\n",
      "           1       0.87      0.84      0.85      5000\n",
      "\n",
      "    accuracy                           0.86     10000\n",
      "   macro avg       0.86      0.86      0.86     10000\n",
      "weighted avg       0.86      0.86      0.86     10000\n",
      "\n"
     ]
    }
   ],
   "source": [
    "# Calculate accuracy\n",
    "accuracy = accuracy_score(y_test, y_pred_mnb)\n",
    "print(f\"Accuracy: {accuracy:.2f}\")\n",
    "\n",
    "# Generate a classification report\n",
    "report = classification_report(y_test, y_pred_mnb)\n",
    "print(\"Classification Report:\\n\", report)"
   ]
  },
  {
   "cell_type": "markdown",
   "id": "032eb5bf-30b9-4af0-852c-1d9af3ac43ee",
   "metadata": {
    "jp-MarkdownHeadingCollapsed": true,
    "tags": []
   },
   "source": [
    "## Random Forest Algorithm"
   ]
  },
  {
   "cell_type": "code",
   "execution_count": 18,
   "id": "c422803b-81e3-4fbe-8811-591020de1cec",
   "metadata": {},
   "outputs": [
    {
     "name": "stdout",
     "output_type": "stream",
     "text": [
      "RandomForest Classifier precision: 0.8499696294796517\n",
      "RandomForest Classifier accuracy: 0.8457\n"
     ]
    }
   ],
   "source": [
    "rfc = Pipeline([\n",
    "     ('tfidf',TfidfVectorizer()),        \n",
    "     ('rf', RandomForestClassifier(random_state=42))         \n",
    "])\n",
    "\n",
    "rfc.fit(x_train, y_train)\n",
    "\n",
    "\n",
    "y_pred_rfc = rfc.predict(x_test)\n",
    "\n",
    "print(f'RandomForest Classifier precision: {precision_score(y_test,y_pred_rfc)}')\n",
    "print(f'RandomForest Classifier accuracy: {accuracy_score(y_test,y_pred_rfc)}')"
   ]
  },
  {
   "cell_type": "code",
   "execution_count": 19,
   "id": "19c690fe-acb9-472f-a67f-b840859d8acb",
   "metadata": {},
   "outputs": [],
   "source": [
    "confusion_mat_rf = confusion_matrix(y_test, y_pred_rfc)"
   ]
  },
  {
   "cell_type": "code",
   "execution_count": 20,
   "id": "58beab9a-3b13-4091-9bc0-e7f0f842e858",
   "metadata": {},
   "outputs": [
    {
     "data": {
      "text/plain": [
       "array([[4259,  741],\n",
       "       [ 802, 4198]], dtype=int64)"
      ]
     },
     "execution_count": 20,
     "metadata": {},
     "output_type": "execute_result"
    }
   ],
   "source": [
    "confusion_mat_rf"
   ]
  },
  {
   "cell_type": "code",
   "execution_count": 21,
   "id": "60fc9927-f268-4ec6-ad67-6e03fdf6ef2a",
   "metadata": {},
   "outputs": [
    {
     "data": {
      "text/plain": [
       "Text(70.72222222222221, 0.5, 'Truth')"
      ]
     },
     "execution_count": 21,
     "metadata": {},
     "output_type": "execute_result"
    },
    {
     "data": {
      "image/png": "[encoded data removed]",
      "text/plain": [
       "<Figure size 800x400 with 2 Axes>"
      ]
     },
     "metadata": {},
     "output_type": "display_data"
    }
   ],
   "source": [
    "plt.figure(figsize = (8,4))\n",
    "sn.heatmap(confusion_mat_rf, annot=True, fmt='d')\n",
    "plt.xlabel('Prediction')\n",
    "plt.ylabel('Truth')"
   ]
  },
  {
   "cell_type": "code",
   "execution_count": 22,
   "id": "e23445e8-a4c9-44d4-ae10-d4848f24023a",
   "metadata": {},
   "outputs": [
    {
     "name": "stdout",
     "output_type": "stream",
     "text": [
      "Accuracy: 0.85\n",
      "Classification Report:\n",
      "               precision    recall  f1-score   support\n",
      "\n",
      "           0       0.84      0.85      0.85      5000\n",
      "           1       0.85      0.84      0.84      5000\n",
      "\n",
      "    accuracy                           0.85     10000\n",
      "   macro avg       0.85      0.85      0.85     10000\n",
      "weighted avg       0.85      0.85      0.85     10000\n",
      "\n"
     ]
    }
   ],
   "source": [
    "# Calculate accuracy\n",
    "accuracy = accuracy_score(y_test, y_pred_rfc)\n",
    "print(f\"Accuracy: {accuracy:.2f}\")\n",
    "\n",
    "# Generate a classification report\n",
    "report = classification_report(y_test, y_pred_rfc)\n",
    "print(\"Classification Report:\\n\", report)"
   ]
  },
  {
   "cell_type": "markdown",
   "id": "3959d6f2-ae52-449e-a83e-e8ac39219b85",
   "metadata": {
    "jp-MarkdownHeadingCollapsed": true,
    "tags": []
   },
   "source": [
    "## Logistic Regression Algorithm"
   ]
  },
  {
   "cell_type": "code",
   "execution_count": 23,
   "id": "33a7c3b5-68bc-4562-9114-fbf9386a473d",
   "metadata": {},
   "outputs": [
    {
     "name": "stdout",
     "output_type": "stream",
     "text": [
      "Logistic Regression precision: 0.8894581280788177\n",
      "Logistic Regression accuracy: 0.8953\n"
     ]
    }
   ],
   "source": [
    "lr = Pipeline([\n",
    "     ('tfidf',TfidfVectorizer()),        \n",
    "     ('log_reg', LogisticRegression())         \n",
    "])\n",
    "\n",
    "lr.fit(x_train, y_train)\n",
    "\n",
    "\n",
    "y_pred_lr = lr.predict(x_test)\n",
    "\n",
    "print(f'Logistic Regression precision: {precision_score(y_test,y_pred_lr)}')\n",
    "print(f'Logistic Regression accuracy: {accuracy_score(y_test,y_pred_lr)}')"
   ]
  },
  {
   "cell_type": "code",
   "execution_count": 24,
   "id": "1ab30082-51c6-4c2d-b67c-417f1c246a51",
   "metadata": {},
   "outputs": [],
   "source": [
    "confusion_mat_lr = confusion_matrix(y_test, y_pred_lr)"
   ]
  },
  {
   "cell_type": "code",
   "execution_count": 25,
   "id": "de88561a-bc55-49c9-8475-10142abbca42",
   "metadata": {},
   "outputs": [
    {
     "data": {
      "text/plain": [
       "array([[4439,  561],\n",
       "       [ 486, 4514]], dtype=int64)"
      ]
     },
     "execution_count": 25,
     "metadata": {},
     "output_type": "execute_result"
    }
   ],
   "source": [
    "confusion_mat_lr"
   ]
  },
  {
   "cell_type": "code",
   "execution_count": 26,
   "id": "b960ef8e-6a9c-4d70-83ea-27064fe35cdc",
   "metadata": {},
   "outputs": [
    {
     "data": {
      "text/plain": [
       "Text(70.72222222222221, 0.5, 'Truth')"
      ]
     },
     "execution_count": 26,
     "metadata": {},
     "output_type": "execute_result"
    },
    {
     "data": {
      "image/png": "[encoded data removed]",
      "text/plain": [
       "<Figure size 800x400 with 2 Axes>"
      ]
     },
     "metadata": {},
     "output_type": "display_data"
    }
   ],
   "source": [
    "plt.figure(figsize = (8,4))\n",
    "sn.heatmap(confusion_mat_lr, annot=True, fmt='d')\n",
    "plt.xlabel('Prediction')\n",
    "plt.ylabel('Truth')"
   ]
  },
  {
   "cell_type": "code",
   "execution_count": 27,
   "id": "7e451da5-fadc-4766-988a-58b82ae46c63",
   "metadata": {},
   "outputs": [
    {
     "name": "stdout",
     "output_type": "stream",
     "text": [
      "Accuracy: 0.90\n",
      "Classification Report:\n",
      "               precision    recall  f1-score   support\n",
      "\n",
      "           0       0.90      0.89      0.89      5000\n",
      "           1       0.89      0.90      0.90      5000\n",
      "\n",
      "    accuracy                           0.90     10000\n",
      "   macro avg       0.90      0.90      0.90     10000\n",
      "weighted avg       0.90      0.90      0.90     10000\n",
      "\n"
     ]
    }
   ],
   "source": [
    "# Calculate accuracy\n",
    "accuracy = accuracy_score(y_test, y_pred_lr)\n",
    "print(f\"Accuracy: {accuracy:.2f}\")\n",
    "\n",
    "# Generate a classification report\n",
    "report = classification_report(y_test, y_pred_lr)\n",
    "print(\"Classification Report:\\n\", report)"
   ]
  },
  {
   "cell_type": "markdown",
   "id": "be3047de-2a9f-4493-9a4a-c35c2a42bc81",
   "metadata": {
    "jp-MarkdownHeadingCollapsed": true,
    "tags": []
   },
   "source": [
    "## Evaluasi Model"
   ]
  },
  {
   "cell_type": "code",
   "execution_count": 28,
   "id": "8cb5a820-7413-4278-886f-835bb8da67dd",
   "metadata": {},
   "outputs": [
    {
     "data": {
      "text/html": [
       "<div>\n",
       "<style scoped>\n",
       "    .dataframe tbody tr th:only-of-type {\n",
       "        vertical-align: middle;\n",
       "    }\n",
       "\n",
       "    .dataframe tbody tr th {\n",
       "        vertical-align: top;\n",
       "    }\n",
       "\n",
       "    .dataframe thead th {\n",
       "        text-align: right;\n",
       "    }\n",
       "</style>\n",
       "<table border=\"1\" class=\"dataframe\">\n",
       "  <thead>\n",
       "    <tr style=\"text-align: right;\">\n",
       "      <th></th>\n",
       "      <th>model</th>\n",
       "      <th>Precision</th>\n",
       "      <th>Accuracy</th>\n",
       "    </tr>\n",
       "  </thead>\n",
       "  <tbody>\n",
       "    <tr>\n",
       "      <th>0</th>\n",
       "      <td>Random Forest</td>\n",
       "      <td>0.849970</td>\n",
       "      <td>0.8457</td>\n",
       "    </tr>\n",
       "    <tr>\n",
       "      <th>1</th>\n",
       "      <td>Multi Naive Bayes</td>\n",
       "      <td>0.874215</td>\n",
       "      <td>0.8576</td>\n",
       "    </tr>\n",
       "    <tr>\n",
       "      <th>2</th>\n",
       "      <td>Logistic Regression</td>\n",
       "      <td>0.889458</td>\n",
       "      <td>0.8953</td>\n",
       "    </tr>\n",
       "  </tbody>\n",
       "</table>\n",
       "</div>"
      ],
      "text/plain": [
       "                 model  Precision  Accuracy\n",
       "0        Random Forest   0.849970    0.8457\n",
       "1    Multi Naive Bayes   0.874215    0.8576\n",
       "2  Logistic Regression   0.889458    0.8953"
      ]
     },
     "execution_count": 28,
     "metadata": {},
     "output_type": "execute_result"
    }
   ],
   "source": [
    "report_df = pd.DataFrame({'model':['Random Forest', 'Multi Naive Bayes','Logistic Regression'],\n",
    "                          'Precision': [precision_score(y_test,y_pred_rfc),precision_score(y_test,y_pred_mnb),precision_score(y_test,y_pred_lr)],\n",
    "                          'Accuracy':[accuracy_score(y_test,y_pred_rfc),accuracy_score(y_test,y_pred_mnb),accuracy_score(y_test,y_pred_lr)]})\n",
    "report_df"
   ]
  },
  {
   "cell_type": "code",
   "execution_count": null,
   "id": "e5ed5f69-47d3-43ac-806c-12c040ba3ace",
   "metadata": {},
   "outputs": [],
   "source": []
  }
 ],
 "metadata": {
  "kernelspec": {
   "display_name": "Python 3 (ipykernel)",
   "language": "python",
   "name": "python3"
  },
  "language_info": {
   "codemirror_mode": {
    "name": "ipython",
    "version": 3
   },
   "file_extension": ".py",
   "mimetype": "text/x-python",
   "name": "python",
   "nbconvert_exporter": "python",
   "pygments_lexer": "ipython3",
   "version": "3.11.9"
  }
 },
 "nbformat": 4,
 "nbformat_minor": 5
}
